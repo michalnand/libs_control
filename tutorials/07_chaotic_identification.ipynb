{
 "cells": [
  {
   "cell_type": "code",
   "execution_count": 9,
   "metadata": {},
   "outputs": [
    {
     "name": "stdout",
     "output_type": "stream",
     "text": [
      ">>>>  (10000, 1) (10000, 3)\n"
     ]
    }
   ],
   "source": [
    "import numpy\n",
    "import LibsControl\n",
    "import matplotlib.pyplot as plt\n",
    "\n",
    "\n",
    "def atractor_step(x, y, z, u, dt):\n",
    "\n",
    "    ro      = 28.0\n",
    "    sigma   = 10.0\n",
    "    beta    = 8.0/3.0\n",
    "\n",
    "    dx      = sigma*(y - x) + u\n",
    "    dy      = x*(ro - z) - y\n",
    "    dz      = x*y - beta*z\n",
    "\n",
    "    x_new   = x     + dx*dt\n",
    "    y_new   = y     + dy*dt\n",
    "    z_new   = z     + dz*dt\n",
    "\n",
    "    return x_new, y_new, z_new\n",
    "\n",
    "\n",
    "\n",
    "x           = 1.0\n",
    "y           = 1.0\n",
    "z           = 1.0\n",
    "u           = 0.0\n",
    "\n",
    "dt          = 1.0/1000.0\n",
    "\n",
    "\n",
    "u_batch     = []\n",
    "x_batch     = []\n",
    "y_batch     = []\n",
    "z_batch     = []\n",
    "\n",
    "\n",
    "steps = 10000\n",
    "for i in range(steps):\n",
    "\n",
    "    u = 0.0\n",
    "\n",
    "    x_new, y_new, z_new = atractor_step(x, y, z, u, dt)\n",
    "\n",
    "    x       = x_new\n",
    "    y       = y_new\n",
    "    z       = z_new\n",
    "\n",
    "    u_batch.append(u)\n",
    "\n",
    "    x_batch.append(x_new)\n",
    "    y_batch.append(y_new)\n",
    "    z_batch.append(z_new)\n",
    "\n",
    "\n",
    "u_batch     = numpy.expand_dims(numpy.array(u_batch), 1)\n",
    "x_batch     = numpy.expand_dims(numpy.array(x_batch), 1)\n",
    "y_batch     = numpy.expand_dims(numpy.array(y_batch), 1)\n",
    "z_batch     = numpy.expand_dims(numpy.array(z_batch), 1)\n",
    "\n",
    "\n",
    "x_batch = numpy.hstack([x_batch, y_batch, z_batch])\n",
    "\n",
    "print(\">>>> \", u_batch.shape, x_batch.shape)\n"
   ]
  },
  {
   "cell_type": "code",
   "execution_count": 10,
   "metadata": {},
   "outputs": [],
   "source": [
    "#find models\n",
    "models, loss = LibsControl.identification(u_batch, x_batch, dt, 50, [LibsControl.polynomial_augmentation])"
   ]
  },
  {
   "cell_type": "code",
   "execution_count": 11,
   "metadata": {},
   "outputs": [
    {
     "name": "stdout",
     "output_type": "stream",
     "text": [
      "model ID\t\t\tdensity[%]\t\t\tloss\n",
      "0 \t\t\t\t 1.7 \t\t\t\t 21813.18926631248\n",
      "1 \t\t\t\t 3.3 \t\t\t\t 24004.05284454578\n",
      "2 \t\t\t\t 5.0 \t\t\t\t 21586.623617846068\n",
      "3 \t\t\t\t 6.7 \t\t\t\t 23345.5603499202\n",
      "4 \t\t\t\t 8.3 \t\t\t\t 22017.056995762963\n",
      "5 \t\t\t\t 10.0 \t\t\t\t 20119.682041929766\n",
      "6 \t\t\t\t 11.7 \t\t\t\t 5504.264297704134\n",
      "7 \t\t\t\t 11.7 \t\t\t\t 5029.920554083298\n",
      "8 \t\t\t\t 11.7 \t\t\t\t 1376.0660988077516\n",
      "9 \t\t\t\t 11.7 \t\t\t\t 1257.4801603212725\n",
      "10 \t\t\t\t 11.7 \t\t\t\t 344.01653689279874\n",
      "11 \t\t\t\t 11.7 \t\t\t\t 314.3700509805435\n",
      "12 \t\t\t\t 11.7 \t\t\t\t 86.00414031863635\n",
      "13 \t\t\t\t 11.7 \t\t\t\t 78.5925181952548\n",
      "14 \t\t\t\t 11.7 \t\t\t\t 21.5010381273834\n",
      "15 \t\t\t\t 11.7 \t\t\t\t 19.648132273879128\n",
      "16 \t\t\t\t 11.7 \t\t\t\t 5.375261055713664\n",
      "17 \t\t\t\t 11.7 \t\t\t\t 4.912034431008146\n",
      "18 \t\t\t\t 11.7 \t\t\t\t 1.3438160258680079\n",
      "19 \t\t\t\t 11.7 \t\t\t\t 1.2280092890269056\n",
      "20 \t\t\t\t 11.7 \t\t\t\t 0.33595438744248474\n",
      "21 \t\t\t\t 11.7 \t\t\t\t 0.3070026628998464\n",
      "22 \t\t\t\t 11.7 \t\t\t\t 0.08398878735404793\n",
      "23 \t\t\t\t 11.7 \t\t\t\t 0.07675083605220674\n",
      "24 \t\t\t\t 11.7 \t\t\t\t 0.02099729209090845\n",
      "25 \t\t\t\t 11.7 \t\t\t\t 0.01918779418235776\n",
      "26 \t\t\t\t 11.7 \t\t\t\t 0.005249370654613081\n",
      "27 \t\t\t\t 11.7 \t\t\t\t 0.004796991135930074\n",
      "28 \t\t\t\t 11.7 \t\t\t\t 0.001312366485280664\n",
      "29 \t\t\t\t 11.7 \t\t\t\t 0.0011992690848372449\n",
      "30 \t\t\t\t 11.7 \t\t\t\t 0.00032810353781933605\n",
      "31 \t\t\t\t 11.7 \t\t\t\t 0.00029982792732214785\n",
      "32 \t\t\t\t 11.7 \t\t\t\t 8.203184838989097e-05\n",
      "33 \t\t\t\t 11.7 \t\t\t\t 7.49623155724192e-05\n",
      "34 \t\t\t\t 11.7 \t\t\t\t 2.0510949750530488e-05\n",
      "35 \t\t\t\t 11.7 \t\t\t\t 1.8743251449591722e-05\n",
      "36 \t\t\t\t 11.7 \t\t\t\t 5.129236949641688e-06\n",
      "37 \t\t\t\t 11.7 \t\t\t\t 4.687154826113278e-06\n",
      "38 \t\t\t\t 11.7 \t\t\t\t 1.2830646788704621e-06\n",
      "39 \t\t\t\t 11.7 \t\t\t\t 1.1724653738404317e-06\n",
      "40 \t\t\t\t 11.7 \t\t\t\t 3.211495759184601e-07\n",
      "41 \t\t\t\t 11.7 \t\t\t\t 2.9346036258852386e-07\n",
      "42 \t\t\t\t 11.7 \t\t\t\t 8.048478255650311e-08\n",
      "43 \t\t\t\t 11.7 \t\t\t\t 7.354278568676665e-08\n",
      "44 \t\t\t\t 11.7 \t\t\t\t 2.022557539889459e-08\n",
      "45 \t\t\t\t 11.7 \t\t\t\t 1.848022941350238e-08\n",
      "46 \t\t\t\t 11.7 \t\t\t\t 5.1142692016013755e-09\n",
      "47 \t\t\t\t 11.7 \t\t\t\t 4.673009321128169e-09\n",
      "48 \t\t\t\t 11.7 \t\t\t\t 1.313190447652482e-09\n",
      "49 \t\t\t\t 11.7 \t\t\t\t 1.2004137854911478e-09\n",
      "[[-1.0000000e+01  2.8000000e+01  0.0000000e+00]\n",
      " [ 1.0000000e+01 -9.9999988e-01  0.0000000e+00]\n",
      " [ 0.0000000e+00  0.0000000e+00 -2.6666667e+00]\n",
      " [ 0.0000000e+00  0.0000000e+00  0.0000000e+00]\n",
      " [ 0.0000000e+00  0.0000000e+00  0.0000000e+00]\n",
      " [ 0.0000000e+00  0.0000000e+00  8.3446503e-07]\n",
      " [ 0.0000000e+00  0.0000000e+00  0.0000000e+00]\n",
      " [ 0.0000000e+00  0.0000000e+00  0.0000000e+00]\n",
      " [ 0.0000000e+00  0.0000000e+00  9.9999905e-01]\n",
      " [ 0.0000000e+00  0.0000000e+00  0.0000000e+00]\n",
      " [ 0.0000000e+00  0.0000000e+00  0.0000000e+00]\n",
      " [ 0.0000000e+00  0.0000000e+00  0.0000000e+00]\n",
      " [ 0.0000000e+00 -9.9999976e-01  0.0000000e+00]\n",
      " [ 0.0000000e+00  0.0000000e+00  0.0000000e+00]\n",
      " [ 0.0000000e+00  0.0000000e+00  0.0000000e+00]\n",
      " [ 0.0000000e+00  0.0000000e+00  0.0000000e+00]\n",
      " [ 0.0000000e+00  0.0000000e+00  0.0000000e+00]\n",
      " [ 0.0000000e+00  0.0000000e+00  0.0000000e+00]\n",
      " [ 0.0000000e+00  0.0000000e+00  0.0000000e+00]\n",
      " [ 0.0000000e+00  0.0000000e+00  0.0000000e+00]]\n"
     ]
    },
    {
     "data": {
      "text/plain": [
       "\"\\nplt.cla()\\nplt.clf()\\nplt.imshow(models[25].T , cmap = 'magma' )\\nplt.colorbar()\\n\""
      ]
     },
     "execution_count": 11,
     "metadata": {},
     "output_type": "execute_result"
    },
    {
     "data": {
      "image/png": "[encoded data removed]",
      "text/plain": [
       "<Figure size 640x480 with 1 Axes>"
      ]
     },
     "metadata": {},
     "output_type": "display_data"
    }
   ],
   "source": [
    "#print and plot results\n",
    "\n",
    "print(\"model ID\\t\\t\\tdensity[%]\\t\\t\\tloss\")\n",
    "\n",
    "density = []\n",
    "for i in range(models.shape[0]):\n",
    "    density_ = 100*(numpy.abs(models[i]) > 10**-5).sum()/(models.shape[1]*models.shape[2])\n",
    "    density.append(density_)\n",
    "    print(i, \"\\t\\t\\t\\t\", round(density_, 1), \"\\t\\t\\t\\t\", loss[i])\n",
    "\n",
    "\n",
    "plt.cla()\n",
    "plt.clf()\n",
    "plt.xlabel(\"model density [%]\")\n",
    "plt.ylabel(\"loss\")\n",
    "plt.plot(density, loss)\n",
    "\n",
    "print(models[-1])\n",
    "\n",
    "'''\n",
    "plt.cla()\n",
    "plt.clf()\n",
    "plt.imshow(models[25].T , cmap = 'magma' )\n",
    "plt.colorbar()\n",
    "'''\n",
    "\n"
   ]
  },
  {
   "cell_type": "code",
   "execution_count": 12,
   "metadata": {},
   "outputs": [
    {
     "name": "stdout",
     "output_type": "stream",
     "text": [
      "\n",
      "\n",
      "\n",
      "\n",
      "model = \n",
      "[[-10.       10.        0.     ]\n",
      " [ 28.       -1.        0.     ]\n",
      " [  0.        0.       -2.66667]]\n",
      "[[ 0.  0.  0.  0.  0.  0.  0.  0.  0.  0.  0.  0.  0.  0.  0.  0.  0.]\n",
      " [ 0.  0.  0.  0.  0.  0.  0.  0.  0. -1.  0.  0.  0.  0.  0.  0.  0.]\n",
      " [ 0.  0.  0.  0.  0.  1.  0.  0.  0.  0.  0.  0.  0.  0.  0.  0.  0.]]\n"
     ]
    }
   ],
   "source": [
    "#split model to system dynamics matrices a, b\n",
    "\n",
    "model = models[-1]\n",
    "\n",
    "ab      = model.T\n",
    "order   = x_batch.shape[1]\n",
    "a = ab[:, 0:order]\n",
    "b = ab[:, order:]\n",
    "\n",
    "\n",
    "#print(\"ground truth = \")\n",
    "#print(numpy.round(ds.mat_a, 3))\n",
    "#print(numpy.round(ds.mat_b, 3))\n",
    "\n",
    "print(\"\\n\\n\\n\")\n",
    "\n",
    "print(\"model = \")\n",
    "print(numpy.round(a, 5))\n",
    "print(numpy.round(b, 5))"
   ]
  }
 ],
 "metadata": {
  "kernelspec": {
   "display_name": "Python 3",
   "language": "python",
   "name": "python3"
  },
  "language_info": {
   "codemirror_mode": {
    "name": "ipython",
    "version": 3
   },
   "file_extension": ".py",
   "mimetype": "text/x-python",
   "name": "python",
   "nbconvert_exporter": "python",
   "pygments_lexer": "ipython3",
   "version": "3.9.16"
  },
  "orig_nbformat": 4
 },
 "nbformat": 4,
 "nbformat_minor": 2
}
