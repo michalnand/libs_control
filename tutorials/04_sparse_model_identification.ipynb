{
 "cells": [
  {
   "cell_type": "code",
   "execution_count": 5,
   "metadata": {},
   "outputs": [],
   "source": [
    "import numpy\n",
    "import LibsControl\n",
    "import matplotlib.pyplot as plt\n",
    "\n",
    "\n",
    "#three connected wheels dynamical system\n",
    "\n",
    "c0 = 2.697*1e-3\n",
    "c1 = 2.66 *1e-3\n",
    "c2 = 3.05 *1e-3\n",
    "c3 = 2.85 *1e-3\n",
    "\n",
    "d0 = 6.78*1e-5\n",
    "d1 = 8.01*1e-5\n",
    "d2 = 8.82*1e-5\n",
    "\n",
    "J  = 2.25e-4\n",
    "\n",
    "mat_a = numpy.zeros((6, 6))\n",
    "mat_b = numpy.zeros((6, 2))\n",
    "mat_c = numpy.zeros((6, 6))\n",
    "\n",
    "\n",
    "    \n",
    "mat_a[0][3] =  1.0\n",
    "mat_a[1][4] =  1.0\n",
    "mat_a[2][5] =  1.0\n",
    "\n",
    "mat_a[3][0] =  (-c0-c1)/J\n",
    "mat_a[3][1] =   c1/J\n",
    "mat_a[3][3] =  -d0/J\n",
    "\n",
    "mat_a[4][0] =  c1/J\n",
    "mat_a[4][1] =  (-c1-c2)/J\n",
    "mat_a[4][2] =  c2/J\n",
    "mat_a[4][4] =  -d1/J\n",
    "\n",
    "mat_a[5][1] =   c2/J\n",
    "mat_a[5][2] =   -c2/J\n",
    "mat_a[5][3] =   -c3/J\n",
    "mat_a[5][5] =  -d2/J\n",
    "\n",
    "\n",
    "mat_b[3][0] = c0/J\n",
    "mat_b[5][1] = c3/J\n",
    "\n",
    "\n",
    "mat_c[0][0] = 1.0\n",
    "mat_c[1][1] = 1.0\n",
    "mat_c[2][2] = 1.0\n",
    "mat_c[3][3] = 1.0\n",
    "mat_c[4][4] = 1.0\n",
    "mat_c[5][5] = 1.0\n",
    "\n",
    "\n",
    "\n",
    "dt          = 1.0/1000.0\n",
    "\n",
    "steps       = 10000\n",
    "\n",
    "\n",
    "ds   = LibsControl.DynamicalSystem(mat_a, mat_b, mat_c, dt=dt)\n",
    "\n",
    "\n",
    "u_batch = []\n",
    "x_batch = []\n",
    "\n",
    "#obtain trajectory\n",
    "x       = numpy.zeros((mat_a.shape[0], 1))\n",
    "u       = numpy.zeros((mat_b.shape[1], 1))\n",
    "\n",
    "for i in range(steps):  \n",
    "    \n",
    "    if i%200 == 0:\n",
    "        u    = numpy.random.rand(mat_b.shape[1], 1)\n",
    "    \n",
    "    u_batch.append(u[:, 0])\n",
    "    x_batch.append(x[:, 0])\n",
    "\n",
    "    x, y = ds.forward(x, u)\n",
    "\n",
    "u_batch = numpy.array(u_batch)\n",
    "x_batch = numpy.array(x_batch)\n",
    "\n",
    "#add some noise\n",
    "x_batch+= 0.001*numpy.random.randn(x_batch.shape[0], x_batch.shape[1])\n"
   ]
  },
  {
   "cell_type": "code",
   "execution_count": 6,
   "metadata": {},
   "outputs": [],
   "source": [
    "#find models\n",
    "models, loss = LibsControl.identification(u_batch, x_batch, dt)"
   ]
  },
  {
   "cell_type": "code",
   "execution_count": 7,
   "metadata": {},
   "outputs": [
    {
     "name": "stdout",
     "output_type": "stream",
     "text": [
      "model ID\t\t\tdensity[%]\t\t\tloss\n",
      "0 \t\t\t\t 4.2 \t\t\t\t 16531606984590.07\n",
      "1 \t\t\t\t 8.3 \t\t\t\t 21588203100582.52\n",
      "2 \t\t\t\t 12.5 \t\t\t\t 10566662978673.94\n",
      "3 \t\t\t\t 16.7 \t\t\t\t 1809249436869.75\n",
      "4 \t\t\t\t 20.8 \t\t\t\t 637025972425.99\n",
      "5 \t\t\t\t 25.0 \t\t\t\t 138333302174.19\n",
      "6 \t\t\t\t 29.2 \t\t\t\t 29659653743.88\n",
      "7 \t\t\t\t 33.3 \t\t\t\t 5557300.89\n",
      "8 \t\t\t\t 37.5 \t\t\t\t 18446933.59\n",
      "9 \t\t\t\t 41.7 \t\t\t\t 17524030.12\n",
      "10 \t\t\t\t 45.8 \t\t\t\t 16541052.54\n",
      "11 \t\t\t\t 50.0 \t\t\t\t 10845433.77\n",
      "12 \t\t\t\t 54.2 \t\t\t\t 10749358.99\n",
      "13 \t\t\t\t 58.3 \t\t\t\t 10749359.24\n",
      "14 \t\t\t\t 62.5 \t\t\t\t 6470056.26\n",
      "15 \t\t\t\t 66.7 \t\t\t\t 5959028.11\n",
      "16 \t\t\t\t 70.8 \t\t\t\t 3389158.34\n",
      "17 \t\t\t\t 75.0 \t\t\t\t 1828374.39\n",
      "18 \t\t\t\t 79.2 \t\t\t\t 2046942.79\n",
      "19 \t\t\t\t 83.3 \t\t\t\t 479554.43\n",
      "\n"
     ]
    },
    {
     "data": {
      "text/plain": [
       "[<matplotlib.lines.Line2D at 0x10f9a2eb0>]"
      ]
     },
     "execution_count": 7,
     "metadata": {},
     "output_type": "execute_result"
    },
    {
     "data": {
      "image/png": "[encoded data removed]",
      "text/plain": [
       "<Figure size 640x480 with 1 Axes>"
      ]
     },
     "metadata": {},
     "output_type": "display_data"
    }
   ],
   "source": [
    "#print and plot results\n",
    "\n",
    "print(\"model ID\\t\\t\\tdensity[%]\\t\\t\\tloss\")\n",
    "\n",
    "density = []\n",
    "for i in range(models.shape[0]):\n",
    "    density_ = 100*(numpy.abs(models[i]) > 10**-5).sum()/(models.shape[1]*models.shape[2])\n",
    "    density.append(density_)\n",
    "    print(i, \"\\t\\t\\t\\t\", round(density_, 1), \"\\t\\t\\t\\t\", round(loss[i], 2))\n",
    "\n",
    "print()\n",
    "\n",
    "plt.cla()\n",
    "plt.clf()\n",
    "plt.xlabel(\"model density [%]\")\n",
    "plt.ylabel(\"loss\")\n",
    "plt.plot(density, loss)\n"
   ]
  },
  {
   "cell_type": "code",
   "execution_count": 8,
   "metadata": {},
   "outputs": [
    {
     "name": "stdout",
     "output_type": "stream",
     "text": [
      "ground truth = \n",
      "[[  0.      0.      0.      1.      0.      0.   ]\n",
      " [  0.      0.      0.      0.      1.      0.   ]\n",
      " [  0.      0.      0.      0.      0.      1.   ]\n",
      " [-23.809  11.822   0.     -0.301   0.      0.   ]\n",
      " [ 11.822 -25.378  13.556   0.     -0.356   0.   ]\n",
      " [  0.     13.556 -13.556 -12.667   0.     -0.392]]\n",
      "[[ 0.     0.   ]\n",
      " [ 0.     0.   ]\n",
      " [ 0.     0.   ]\n",
      " [11.987  0.   ]\n",
      " [ 0.     0.   ]\n",
      " [ 0.    12.667]]\n",
      "\n",
      "\n",
      "\n",
      "\n",
      "model = \n",
      "[[  0.      0.      0.      0.994   0.      0.   ]\n",
      " [  0.      0.      0.      0.      0.999   0.   ]\n",
      " [  0.      0.      0.      0.      0.      1.002]\n",
      " [-23.816  11.825   0.     -0.305   0.      0.   ]\n",
      " [ 11.819 -25.372  13.554   0.     -0.357   0.   ]\n",
      " [  0.     13.555 -13.553 -12.67    0.     -0.394]]\n",
      "[[ 0.     0.   ]\n",
      " [ 0.     0.   ]\n",
      " [ 0.     0.   ]\n",
      " [11.994  0.   ]\n",
      " [ 0.     0.   ]\n",
      " [ 0.    12.673]]\n"
     ]
    }
   ],
   "source": [
    "#split model to system dynamics matrices a, b\n",
    "\n",
    "model = models[7]\n",
    "\n",
    "ab      = model.T\n",
    "order   = x_batch.shape[1]\n",
    "a = ab[:, 0:order]\n",
    "b = ab[:, order:]\n",
    "\n",
    "\n",
    "print(\"ground truth = \")\n",
    "print(numpy.round(ds.mat_a, 3))\n",
    "print(numpy.round(ds.mat_b, 3))\n",
    "\n",
    "print(\"\\n\\n\\n\")\n",
    "\n",
    "print(\"model = \")\n",
    "print(numpy.round(a, 3))\n",
    "print(numpy.round(b, 3))"
   ]
  }
 ],
 "metadata": {
  "kernelspec": {
   "display_name": "Python 3",
   "language": "python",
   "name": "python3"
  },
  "language_info": {
   "codemirror_mode": {
    "name": "ipython",
    "version": 3
   },
   "file_extension": ".py",
   "mimetype": "text/x-python",
   "name": "python",
   "nbconvert_exporter": "python",
   "pygments_lexer": "ipython3",
   "version": "3.9.16"
  },
  "orig_nbformat": 4
 },
 "nbformat": 4,
 "nbformat_minor": 2
}
